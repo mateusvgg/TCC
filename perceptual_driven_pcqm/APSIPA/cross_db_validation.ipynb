{
 "cells": [
  {
   "cell_type": "code",
   "execution_count": 1,
   "metadata": {},
   "outputs": [],
   "source": [
    "import torch\n",
    "import joblib\n",
    "from tqdm import tqdm\n",
    "import pandas as pd\n",
    "import numpy as np\n",
    "import lightgbm as lgb\n",
    "from sklearn.svm import SVR\n",
    "from sklearn.ensemble import ExtraTreesRegressor\n",
    "from sklearn.model_selection import train_test_split, KFold\n",
    "from sklearn.metrics import mean_squared_error\n",
    "from scipy.stats import spearmanr, pearsonr"
   ]
  },
  {
   "cell_type": "code",
   "execution_count": 2,
   "metadata": {},
   "outputs": [],
   "source": [
    "x_train = torch.load('../data/X_tensor_WPC.pt')\n",
    "y_train = torch.load('../data/y_tensor_WPC.pt')"
   ]
  },
  {
   "cell_type": "code",
   "execution_count": 3,
   "metadata": {},
   "outputs": [],
   "source": [
    "x_test = torch.load('../data/X_tensor_APSIPA.pt')\n",
    "y_test = torch.load('../data/y_tensor_APSIPA.pt')"
   ]
  },
  {
   "cell_type": "code",
   "execution_count": 4,
   "metadata": {},
   "outputs": [],
   "source": [
    "x_train = [[v.cpu().detach().numpy() for v in x] for x in x_train]\n",
    "x_test = [[v.cpu().detach().numpy() for v in x] for x in x_test]"
   ]
  },
  {
   "cell_type": "code",
   "execution_count": 5,
   "metadata": {},
   "outputs": [],
   "source": [
    "def get_etr_model():\n",
    "    return ExtraTreesRegressor(\n",
    "    n_estimators=37,\n",
    "    min_samples_split=15,\n",
    "    min_samples_leaf=4,\n",
    "    max_features='log2',  # type: ignore\n",
    "    max_depth=7\n",
    ")"
   ]
  },
  {
   "cell_type": "code",
   "execution_count": 6,
   "metadata": {},
   "outputs": [],
   "source": [
    "def get_svr_model():\n",
    "    return SVR(\n",
    "        kernel='rbf',\n",
    "        gamma=1,  # type: ignore\n",
    "        epsilon=0.01,\n",
    "        degree=2,\n",
    "        C=5\n",
    "    )"
   ]
  },
  {
   "cell_type": "code",
   "execution_count": 7,
   "metadata": {},
   "outputs": [],
   "source": [
    "def get_lgbm_model():\n",
    "    return lgb.LGBMRegressor(\n",
    "        subsample_for_bin=140000,\n",
    "        reg_lambda=0.1,\n",
    "        reg_alpha=1.0,\n",
    "        num_leaves=100,\n",
    "        n_estimators=166,\n",
    "        min_split_gain=1,\n",
    "        min_child_weight=0.0001,\n",
    "        min_child_samples=20,\n",
    "        learning_rate=0.1,\n",
    "        colsample_bytree=1.0,\n",
    "        boosting_type='dart'\n",
    "    )"
   ]
  },
  {
   "cell_type": "code",
   "execution_count": 8,
   "metadata": {},
   "outputs": [],
   "source": [
    "models = ['lgbm', 'svr', 'etr']"
   ]
  },
  {
   "cell_type": "code",
   "execution_count": 9,
   "metadata": {},
   "outputs": [],
   "source": [
    "results = []\n",
    "for model_name in models:\n",
    "    result = {}\n",
    "    if model_name == 'lgbm':\n",
    "        model = get_lgbm_model()\n",
    "    elif model_name == 'svr':\n",
    "        model = get_svr_model()\n",
    "    elif model_name == 'etr':\n",
    "        model = get_etr_model()\n",
    "    model.fit(x_train, y_train)\n",
    "    y_pred = model.predict(x_test)\n",
    "    result[f'{model_name}-pearson'] = pearsonr(y_test, y_pred)[0]\n",
    "    result[f'{model_name}-spearman'] = spearmanr(y_test, y_pred)[0]\n",
    "    result[f'{model_name}-rmse'] = np.sqrt(mean_squared_error(y_test, y_pred))\n",
    "    results.append(result)   "
   ]
  },
  {
   "cell_type": "code",
   "execution_count": 10,
   "metadata": {},
   "outputs": [],
   "source": [
    "df_results = pd.DataFrame(results)"
   ]
  },
  {
   "cell_type": "code",
   "execution_count": 11,
   "metadata": {},
   "outputs": [],
   "source": [
    "to_concat = {\n",
    "    'Fold': 'mean',\n",
    "    'lgbm-pearson': df_results.loc[:, 'lgbm-pearson'].mean(),\n",
    "    'lgbm-spearman': df_results.loc[:, 'lgbm-spearman'].mean(),\n",
    "    'lgbm-rmse': df_results.loc[:, 'lgbm-rmse'].mean(),\n",
    "    'svr-pearson': df_results.loc[:, 'svr-pearson'].mean(),\n",
    "    'svr-spearman': df_results.loc[:, 'svr-spearman'].mean(),\n",
    "    'svr-rmse': df_results.loc[:, 'svr-rmse'].mean(),\n",
    "    'etr-pearson': df_results.loc[:, 'etr-pearson'].mean(),\n",
    "    'etr-spearman': df_results.loc[:, 'etr-spearman'].mean(),\n",
    "    'etr-rmse': df_results.loc[:, 'etr-rmse'].mean()\n",
    "}"
   ]
  },
  {
   "cell_type": "code",
   "execution_count": 13,
   "metadata": {},
   "outputs": [],
   "source": [
    "df_conc = pd.DataFrame([to_concat])\n",
    "df_results = pd.concat([df_results, df_conc])"
   ]
  },
  {
   "cell_type": "code",
   "execution_count": 14,
   "metadata": {},
   "outputs": [
    {
     "data": {
      "text/html": [
       "<div>\n",
       "<style scoped>\n",
       "    .dataframe tbody tr th:only-of-type {\n",
       "        vertical-align: middle;\n",
       "    }\n",
       "\n",
       "    .dataframe tbody tr th {\n",
       "        vertical-align: top;\n",
       "    }\n",
       "\n",
       "    .dataframe thead th {\n",
       "        text-align: right;\n",
       "    }\n",
       "</style>\n",
       "<table border=\"1\" class=\"dataframe\">\n",
       "  <thead>\n",
       "    <tr style=\"text-align: right;\">\n",
       "      <th></th>\n",
       "      <th>lgbm-pearson</th>\n",
       "      <th>lgbm-spearman</th>\n",
       "      <th>lgbm-rmse</th>\n",
       "      <th>svr-pearson</th>\n",
       "      <th>svr-spearman</th>\n",
       "      <th>svr-rmse</th>\n",
       "      <th>etr-pearson</th>\n",
       "      <th>etr-spearman</th>\n",
       "      <th>etr-rmse</th>\n",
       "      <th>Fold</th>\n",
       "    </tr>\n",
       "  </thead>\n",
       "  <tbody>\n",
       "    <tr>\n",
       "      <th>0</th>\n",
       "      <td>0.807764</td>\n",
       "      <td>0.849659</td>\n",
       "      <td>53.540133</td>\n",
       "      <td>NaN</td>\n",
       "      <td>NaN</td>\n",
       "      <td>NaN</td>\n",
       "      <td>NaN</td>\n",
       "      <td>NaN</td>\n",
       "      <td>NaN</td>\n",
       "      <td>NaN</td>\n",
       "    </tr>\n",
       "    <tr>\n",
       "      <th>1</th>\n",
       "      <td>NaN</td>\n",
       "      <td>NaN</td>\n",
       "      <td>NaN</td>\n",
       "      <td>0.845333</td>\n",
       "      <td>0.930901</td>\n",
       "      <td>59.653402</td>\n",
       "      <td>NaN</td>\n",
       "      <td>NaN</td>\n",
       "      <td>NaN</td>\n",
       "      <td>NaN</td>\n",
       "    </tr>\n",
       "    <tr>\n",
       "      <th>2</th>\n",
       "      <td>NaN</td>\n",
       "      <td>NaN</td>\n",
       "      <td>NaN</td>\n",
       "      <td>NaN</td>\n",
       "      <td>NaN</td>\n",
       "      <td>NaN</td>\n",
       "      <td>0.858049</td>\n",
       "      <td>0.925072</td>\n",
       "      <td>57.321624</td>\n",
       "      <td>NaN</td>\n",
       "    </tr>\n",
       "    <tr>\n",
       "      <th>0</th>\n",
       "      <td>0.807764</td>\n",
       "      <td>0.849659</td>\n",
       "      <td>53.540133</td>\n",
       "      <td>0.845333</td>\n",
       "      <td>0.930901</td>\n",
       "      <td>59.653402</td>\n",
       "      <td>0.858049</td>\n",
       "      <td>0.925072</td>\n",
       "      <td>57.321624</td>\n",
       "      <td>mean</td>\n",
       "    </tr>\n",
       "    <tr>\n",
       "      <th>0</th>\n",
       "      <td>0.807764</td>\n",
       "      <td>0.849659</td>\n",
       "      <td>53.540133</td>\n",
       "      <td>0.845333</td>\n",
       "      <td>0.930901</td>\n",
       "      <td>59.653402</td>\n",
       "      <td>0.858049</td>\n",
       "      <td>0.925072</td>\n",
       "      <td>57.321624</td>\n",
       "      <td>mean</td>\n",
       "    </tr>\n",
       "  </tbody>\n",
       "</table>\n",
       "</div>"
      ],
      "text/plain": [
       "   lgbm-pearson  lgbm-spearman  lgbm-rmse  svr-pearson  svr-spearman  \\\n",
       "0      0.807764       0.849659  53.540133          NaN           NaN   \n",
       "1           NaN            NaN        NaN     0.845333      0.930901   \n",
       "2           NaN            NaN        NaN          NaN           NaN   \n",
       "0      0.807764       0.849659  53.540133     0.845333      0.930901   \n",
       "0      0.807764       0.849659  53.540133     0.845333      0.930901   \n",
       "\n",
       "    svr-rmse  etr-pearson  etr-spearman   etr-rmse  Fold  \n",
       "0        NaN          NaN           NaN        NaN   NaN  \n",
       "1  59.653402          NaN           NaN        NaN   NaN  \n",
       "2        NaN     0.858049      0.925072  57.321624   NaN  \n",
       "0  59.653402     0.858049      0.925072  57.321624  mean  \n",
       "0  59.653402     0.858049      0.925072  57.321624  mean  "
      ]
     },
     "execution_count": 14,
     "metadata": {},
     "output_type": "execute_result"
    }
   ],
   "source": [
    "df_results"
   ]
  },
  {
   "cell_type": "code",
   "execution_count": 15,
   "metadata": {},
   "outputs": [
    {
     "data": {
      "text/html": [
       "<div>\n",
       "<style scoped>\n",
       "    .dataframe tbody tr th:only-of-type {\n",
       "        vertical-align: middle;\n",
       "    }\n",
       "\n",
       "    .dataframe tbody tr th {\n",
       "        vertical-align: top;\n",
       "    }\n",
       "\n",
       "    .dataframe thead th {\n",
       "        text-align: right;\n",
       "    }\n",
       "</style>\n",
       "<table border=\"1\" class=\"dataframe\">\n",
       "  <thead>\n",
       "    <tr style=\"text-align: right;\">\n",
       "      <th></th>\n",
       "      <th>Fold</th>\n",
       "      <th>lgbm-pearson</th>\n",
       "      <th>lgbm-spearman</th>\n",
       "      <th>lgbm-rmse</th>\n",
       "      <th>svr-pearson</th>\n",
       "      <th>svr-spearman</th>\n",
       "      <th>svr-rmse</th>\n",
       "      <th>etr-pearson</th>\n",
       "      <th>etr-spearman</th>\n",
       "      <th>etr-rmse</th>\n",
       "    </tr>\n",
       "  </thead>\n",
       "  <tbody>\n",
       "    <tr>\n",
       "      <th>0</th>\n",
       "      <td>mean</td>\n",
       "      <td>0.807764</td>\n",
       "      <td>0.849659</td>\n",
       "      <td>53.540133</td>\n",
       "      <td>0.845333</td>\n",
       "      <td>0.930901</td>\n",
       "      <td>59.653402</td>\n",
       "      <td>0.858049</td>\n",
       "      <td>0.925072</td>\n",
       "      <td>57.321624</td>\n",
       "    </tr>\n",
       "  </tbody>\n",
       "</table>\n",
       "</div>"
      ],
      "text/plain": [
       "   Fold  lgbm-pearson  lgbm-spearman  lgbm-rmse  svr-pearson  svr-spearman  \\\n",
       "0  mean      0.807764       0.849659  53.540133     0.845333      0.930901   \n",
       "\n",
       "    svr-rmse  etr-pearson  etr-spearman   etr-rmse  \n",
       "0  59.653402     0.858049      0.925072  57.321624  "
      ]
     },
     "execution_count": 15,
     "metadata": {},
     "output_type": "execute_result"
    }
   ],
   "source": [
    "df_conc"
   ]
  },
  {
   "cell_type": "code",
   "execution_count": null,
   "metadata": {},
   "outputs": [],
   "source": []
  }
 ],
 "metadata": {
  "kernelspec": {
   "display_name": "torch-gpu",
   "language": "python",
   "name": "python3"
  },
  "language_info": {
   "codemirror_mode": {
    "name": "ipython",
    "version": 3
   },
   "file_extension": ".py",
   "mimetype": "text/x-python",
   "name": "python",
   "nbconvert_exporter": "python",
   "pygments_lexer": "ipython3",
   "version": "3.8.15 (default, Nov 24 2022, 08:57:44) \n[Clang 14.0.6 ]"
  },
  "orig_nbformat": 4,
  "vscode": {
   "interpreter": {
    "hash": "32c4164a61f2f4c42ee10e2bf794c06ea5fd8f4ae565770c00e31e2cfeac22d9"
   }
  }
 },
 "nbformat": 4,
 "nbformat_minor": 2
}
