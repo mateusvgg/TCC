{
 "cells": [
  {
   "cell_type": "code",
   "execution_count": 1,
   "metadata": {},
   "outputs": [],
   "source": [
    "import torch\n",
    "import joblib\n",
    "from tqdm import tqdm\n",
    "import pandas as pd\n",
    "import numpy as np\n",
    "from sklearn.linear_model import PoissonRegressor\n",
    "from sklearn.svm import SVR, NuSVR\n",
    "from scipy.stats import spearmanr, pearsonr"
   ]
  },
  {
   "cell_type": "code",
   "execution_count": 2,
   "metadata": {},
   "outputs": [],
   "source": [
    "x_train_apsipa = torch.load('../data/X_tensor_APSIPA.pt')\n",
    "y_train_apsipa = torch.load('../data/y_tensor_APSIPA.pt')\n",
    "x_train_wpc = torch.load('../data/X_tensor_WPC_cpu.pt')\n",
    "y_train_wpc = torch.load('../data/y_tensor_WPC.pt')"
   ]
  },
  {
   "cell_type": "code",
   "execution_count": 3,
   "metadata": {},
   "outputs": [],
   "source": [
    "X_train_apsipa = [[v.detach().numpy() for v in x] for x in x_train_apsipa]\n",
    "X_train_wpc = [[v.detach().numpy() for v in x] for x in x_train_wpc]"
   ]
  },
  {
   "cell_type": "code",
   "execution_count": 4,
   "metadata": {},
   "outputs": [],
   "source": [
    "def get_nusvr_model():\n",
    "    return NuSVR(\n",
    "    nu=0.42857142857142855,\n",
    "    kernel='rbf',\n",
    "    gamma=1, # type: ignore\n",
    "    degree=2,\n",
    "    C=50\n",
    ")"
   ]
  },
  {
   "cell_type": "code",
   "execution_count": 5,
   "metadata": {},
   "outputs": [],
   "source": [
    "def get_svr_model():\n",
    "    return SVR(\n",
    "        kernel='rbf',\n",
    "        gamma=1,  # type: ignore\n",
    "        epsilon=1,\n",
    "        degree=2,\n",
    "        C=5\n",
    "    )"
   ]
  },
  {
   "cell_type": "code",
   "execution_count": 6,
   "metadata": {},
   "outputs": [],
   "source": [
    "def get_pr_model():\n",
    "    return PoissonRegressor(\n",
    "        solver='lbfgs',\n",
    "        max_iter=10,\n",
    "        fit_intercept=True,\n",
    "        alpha=0.01\n",
    "    )"
   ]
  },
  {
   "cell_type": "code",
   "execution_count": 7,
   "metadata": {},
   "outputs": [],
   "source": [
    "models = ['nusvr', 'svr', 'pr']"
   ]
  },
  {
   "cell_type": "code",
   "execution_count": 8,
   "metadata": {},
   "outputs": [
    {
     "name": "stderr",
     "output_type": "stream",
     "text": [
      "/home/mateusvg_db/TCC/tccVenv2/lib/python3.10/site-packages/sklearn/linear_model/_glm/glm.py:284: ConvergenceWarning: lbfgs failed to converge (status=1):\n",
      "STOP: TOTAL NO. of ITERATIONS REACHED LIMIT.\n",
      "\n",
      "Increase the number of iterations (max_iter) or scale the data as shown in:\n",
      "    https://scikit-learn.org/stable/modules/preprocessing.html\n",
      "  self.n_iter_ = _check_optimize_result(\"lbfgs\", opt_res)\n"
     ]
    }
   ],
   "source": [
    "results = []\n",
    "\n",
    "result = {'mode': 'test-in-apsipa'}\n",
    "\n",
    "nusvr_wpc = get_nusvr_model()\n",
    "svr_wpc = get_svr_model()\n",
    "pr_wpc = get_pr_model()\n",
    "\n",
    "nusvr_wpc.fit(X_train_wpc, y_train_wpc)\n",
    "svr_wpc.fit(X_train_wpc, y_train_wpc)\n",
    "pr_wpc.fit(X_train_wpc, y_train_wpc)\n",
    "\n",
    "ypred_nusvr_wpc = nusvr_wpc.predict(X_train_apsipa)\n",
    "ypred_svr_wpc = svr_wpc.predict(X_train_apsipa)\n",
    "ypred_pr_wpc = pr_wpc.predict(X_train_apsipa)\n",
    "\n",
    "result['nusvr-pearson'] = pearsonr(y_train_apsipa, ypred_nusvr_wpc)[0]\n",
    "result['nusvr-spearman'] = spearmanr(y_train_apsipa, ypred_nusvr_wpc)[0]\n",
    "result['svr-pearson'] = pearsonr(y_train_apsipa, ypred_svr_wpc)[0]\n",
    "result['svr-spearman'] = spearmanr(y_train_apsipa, ypred_svr_wpc)[0]\n",
    "result['pr-pearson'] = pearsonr(y_train_apsipa, ypred_pr_wpc)[0]\n",
    "result['pr-spearman'] = spearmanr(y_train_apsipa, ypred_pr_wpc)[0]\n",
    "\n",
    "results.append(result)"
   ]
  },
  {
   "cell_type": "code",
   "execution_count": 9,
   "metadata": {},
   "outputs": [
    {
     "name": "stderr",
     "output_type": "stream",
     "text": [
      "/home/mateusvg_db/TCC/tccVenv2/lib/python3.10/site-packages/sklearn/linear_model/_glm/glm.py:284: ConvergenceWarning: lbfgs failed to converge (status=1):\n",
      "STOP: TOTAL NO. of ITERATIONS REACHED LIMIT.\n",
      "\n",
      "Increase the number of iterations (max_iter) or scale the data as shown in:\n",
      "    https://scikit-learn.org/stable/modules/preprocessing.html\n",
      "  self.n_iter_ = _check_optimize_result(\"lbfgs\", opt_res)\n"
     ]
    }
   ],
   "source": [
    "result = {'mode': 'test-in-wpc'}\n",
    "\n",
    "nusvr_apsipa = get_nusvr_model()\n",
    "svr_apsipa = get_svr_model()\n",
    "pr_apsipa = get_pr_model()\n",
    "\n",
    "nusvr_apsipa.fit(X_train_apsipa, y_train_apsipa)\n",
    "svr_apsipa.fit(X_train_apsipa, y_train_apsipa)\n",
    "pr_apsipa.fit(X_train_apsipa, y_train_apsipa)\n",
    "\n",
    "ypred_nusvr_apsipa = nusvr_apsipa.predict(X_train_wpc)\n",
    "ypred_svr_apsipa = svr_apsipa.predict(X_train_wpc)\n",
    "ypred_pr_apsipa = pr_apsipa.predict(X_train_wpc)\n",
    "\n",
    "result['nusvr-pearson'] = pearsonr(y_train_wpc, ypred_nusvr_apsipa)[0]\n",
    "result['nusvr-spearman'] = spearmanr(y_train_wpc, ypred_nusvr_apsipa)[0]\n",
    "result['svr-pearson'] = pearsonr(y_train_wpc, ypred_svr_apsipa)[0]\n",
    "result['svr-spearman'] = spearmanr(y_train_wpc, ypred_svr_apsipa)[0]\n",
    "result['pr-pearson'] = pearsonr(y_train_wpc, ypred_pr_apsipa)[0]\n",
    "result['pr-spearman'] = spearmanr(y_train_wpc, ypred_pr_apsipa)[0]\n",
    "\n",
    "results.append(result)"
   ]
  },
  {
   "cell_type": "code",
   "execution_count": 10,
   "metadata": {},
   "outputs": [],
   "source": [
    "df_results = pd.DataFrame(results)"
   ]
  },
  {
   "cell_type": "code",
   "execution_count": 11,
   "metadata": {},
   "outputs": [
    {
     "data": {
      "text/html": [
       "<div>\n",
       "<style scoped>\n",
       "    .dataframe tbody tr th:only-of-type {\n",
       "        vertical-align: middle;\n",
       "    }\n",
       "\n",
       "    .dataframe tbody tr th {\n",
       "        vertical-align: top;\n",
       "    }\n",
       "\n",
       "    .dataframe thead th {\n",
       "        text-align: right;\n",
       "    }\n",
       "</style>\n",
       "<table border=\"1\" class=\"dataframe\">\n",
       "  <thead>\n",
       "    <tr style=\"text-align: right;\">\n",
       "      <th></th>\n",
       "      <th>mode</th>\n",
       "      <th>nusvr-pearson</th>\n",
       "      <th>nusvr-spearman</th>\n",
       "      <th>svr-pearson</th>\n",
       "      <th>svr-spearman</th>\n",
       "      <th>pr-pearson</th>\n",
       "      <th>pr-spearman</th>\n",
       "    </tr>\n",
       "  </thead>\n",
       "  <tbody>\n",
       "    <tr>\n",
       "      <th>0</th>\n",
       "      <td>test-in-apsipa</td>\n",
       "      <td>0.842836</td>\n",
       "      <td>0.923940</td>\n",
       "      <td>0.849672</td>\n",
       "      <td>0.930628</td>\n",
       "      <td>0.868369</td>\n",
       "      <td>0.917857</td>\n",
       "    </tr>\n",
       "    <tr>\n",
       "      <th>1</th>\n",
       "      <td>test-in-wpc</td>\n",
       "      <td>0.684894</td>\n",
       "      <td>0.685121</td>\n",
       "      <td>0.735927</td>\n",
       "      <td>0.733120</td>\n",
       "      <td>0.731901</td>\n",
       "      <td>0.733361</td>\n",
       "    </tr>\n",
       "  </tbody>\n",
       "</table>\n",
       "</div>"
      ],
      "text/plain": [
       "             mode  nusvr-pearson  nusvr-spearman  svr-pearson  svr-spearman  \\\n",
       "0  test-in-apsipa       0.842836        0.923940     0.849672      0.930628   \n",
       "1     test-in-wpc       0.684894        0.685121     0.735927      0.733120   \n",
       "\n",
       "   pr-pearson  pr-spearman  \n",
       "0    0.868369     0.917857  \n",
       "1    0.731901     0.733361  "
      ]
     },
     "execution_count": 11,
     "metadata": {},
     "output_type": "execute_result"
    }
   ],
   "source": [
    "df_results"
   ]
  },
  {
   "cell_type": "code",
   "execution_count": 13,
   "metadata": {},
   "outputs": [
    {
     "data": {
      "text/plain": [
       "['../data/pr_wpc_model.pkl']"
      ]
     },
     "execution_count": 13,
     "metadata": {},
     "output_type": "execute_result"
    }
   ],
   "source": [
    "joblib.dump(nusvr_wpc, '../data/nusvr_wpc_model.pkl')\n",
    "joblib.dump(svr_wpc, '../data/svr_wpc_model.pkl')\n",
    "joblib.dump(pr_wpc, '../data/pr_wpc_model.pkl')"
   ]
  }
 ],
 "metadata": {
  "kernelspec": {
   "display_name": "tccVenv2",
   "language": "python",
   "name": "python3"
  },
  "language_info": {
   "codemirror_mode": {
    "name": "ipython",
    "version": 3
   },
   "file_extension": ".py",
   "mimetype": "text/x-python",
   "name": "python",
   "nbconvert_exporter": "python",
   "pygments_lexer": "ipython3",
   "version": "3.10.4"
  },
  "orig_nbformat": 4,
  "vscode": {
   "interpreter": {
    "hash": "88c321ef43037ea5124ac7a75f84feb39a5fe4fda135b2c0126c516c84ba22bc"
   }
  }
 },
 "nbformat": 4,
 "nbformat_minor": 2
}
