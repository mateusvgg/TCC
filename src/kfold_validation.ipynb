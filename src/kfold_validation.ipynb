{
 "cells": [
  {
   "cell_type": "code",
   "execution_count": 1,
   "metadata": {},
   "outputs": [],
   "source": [
    "import torch\n",
    "import joblib\n",
    "from tqdm import tqdm\n",
    "import pandas as pd\n",
    "import numpy as np\n",
    "import lightgbm as lgb\n",
    "from sklearn.svm import SVR\n",
    "from sklearn.ensemble import ExtraTreesRegressor\n",
    "from sklearn.model_selection import train_test_split, KFold\n",
    "from sklearn.metrics import mean_squared_error\n",
    "from scipy.stats import spearmanr, pearsonr"
   ]
  },
  {
   "cell_type": "code",
   "execution_count": 2,
   "metadata": {},
   "outputs": [],
   "source": [
    "x_train = torch.load('../data/X_tensor_APSIPA.pt')\n",
    "y_train = torch.load('../data/y_tensor_APSIPA.pt')"
   ]
  },
  {
   "cell_type": "code",
   "execution_count": 3,
   "metadata": {},
   "outputs": [],
   "source": [
    "X_train = []\n",
    "for x in x_train:\n",
    "    vector = [v.detach().numpy() for v in x]\n",
    "    X_train.append(vector)"
   ]
  },
  {
   "cell_type": "code",
   "execution_count": 4,
   "metadata": {},
   "outputs": [],
   "source": [
    "kf = KFold(n_splits=5, shuffle=True, random_state=42)"
   ]
  },
  {
   "cell_type": "code",
   "execution_count": 5,
   "metadata": {},
   "outputs": [],
   "source": [
    "def get_split(input_x, input_y, indexes):\n",
    "    out_x, out_y = [], []\n",
    "    for index in indexes:\n",
    "        out_x.append(input_x[index])\n",
    "        out_y.append(input_y[index])\n",
    "    return out_x, out_y"
   ]
  },
  {
   "cell_type": "code",
   "execution_count": 6,
   "metadata": {},
   "outputs": [],
   "source": [
    "def get_etr_model():\n",
    "    return ExtraTreesRegressor(\n",
    "    n_estimators=37,\n",
    "    min_samples_split=15,\n",
    "    min_samples_leaf=4,\n",
    "    max_features='log2',  # type: ignore\n",
    "    max_depth=7\n",
    ")"
   ]
  },
  {
   "cell_type": "code",
   "execution_count": 7,
   "metadata": {},
   "outputs": [],
   "source": [
    "def get_svr_model():\n",
    "    return SVR(\n",
    "        kernel='rbf',\n",
    "        gamma=1,  # type: ignore\n",
    "        epsilon=0.01,\n",
    "        degree=2,\n",
    "        C=5\n",
    "    )"
   ]
  },
  {
   "cell_type": "code",
   "execution_count": 8,
   "metadata": {},
   "outputs": [],
   "source": [
    "def get_lgbm_model():\n",
    "    return lgb.LGBMRegressor(\n",
    "        subsample_for_bin=140000,\n",
    "        reg_lambda=0.1,\n",
    "        reg_alpha=1.0,\n",
    "        num_leaves=100,\n",
    "        n_estimators=166,\n",
    "        min_split_gain=1,\n",
    "        min_child_weight=0.0001,\n",
    "        min_child_samples=20,\n",
    "        learning_rate=0.1,\n",
    "        colsample_bytree=1.0,\n",
    "        boosting_type='dart'\n",
    "    )"
   ]
  },
  {
   "cell_type": "code",
   "execution_count": 9,
   "metadata": {},
   "outputs": [],
   "source": [
    "models = ['lgbm', 'svr', 'etr']"
   ]
  },
  {
   "cell_type": "code",
   "execution_count": 10,
   "metadata": {},
   "outputs": [
    {
     "name": "stderr",
     "output_type": "stream",
     "text": [
      "5it [00:02,  2.12it/s]\n"
     ]
    }
   ],
   "source": [
    "results = []\n",
    "for i, (train_index, test_index) in tqdm(enumerate(kf.split(X_train))):\n",
    "    result = {'Fold': i}\n",
    "    xtrain, ytrain = get_split(X_train, y_train, train_index)\n",
    "    xtest, ytest = get_split(X_train, y_train, test_index)\n",
    "    for model_name in models:\n",
    "        if model_name == 'lgbm':\n",
    "            model = get_lgbm_model()\n",
    "        if model_name == 'svr':\n",
    "            model = get_svr_model()\n",
    "        if model_name == 'etr':\n",
    "            model = get_etr_model()\n",
    "        model.fit(xtrain, ytrain)\n",
    "        ypred = model.predict(xtest)\n",
    "        result[f'{model_name}-pearson'] = pearsonr(ytest, ypred)[0]\n",
    "        result[f'{model_name}-spearman'] = spearmanr(ytest, ypred)[0]\n",
    "        result[f'{model_name}-mse'] = mean_squared_error(ytest, ypred)\n",
    "    results.append(result)"
   ]
  },
  {
   "cell_type": "code",
   "execution_count": 11,
   "metadata": {},
   "outputs": [],
   "source": [
    "df_results = pd.DataFrame(results)"
   ]
  },
  {
   "cell_type": "code",
   "execution_count": 12,
   "metadata": {},
   "outputs": [],
   "source": [
    "to_concat = {\n",
    "    'Fold': 'mean',\n",
    "    'lgbm-pearson': df_results.loc[:, 'lgbm-pearson'].mean(),\n",
    "    'lgbm-spearman': df_results.loc[:, 'lgbm-spearman'].mean(),\n",
    "    'lgbm-mse': df_results.loc[:, 'lgbm-mse'].mean(),\n",
    "    'svr-pearson': df_results.loc[:, 'svr-pearson'].mean(),\n",
    "    'svr-spearman': df_results.loc[:, 'svr-spearman'].mean(),\n",
    "    'svr-mse': df_results.loc[:, 'svr-mse'].mean(),\n",
    "    'etr-pearson': df_results.loc[:, 'etr-pearson'].mean(),\n",
    "    'etr-spearman': df_results.loc[:, 'etr-spearman'].mean(),\n",
    "    'etr-mse': df_results.loc[:, 'etr-mse'].mean()\n",
    "}"
   ]
  },
  {
   "cell_type": "code",
   "execution_count": 13,
   "metadata": {},
   "outputs": [],
   "source": [
    "df_conc = pd.DataFrame([to_concat])\n",
    "df_results = pd.concat([df_results, df_conc])"
   ]
  },
  {
   "cell_type": "code",
   "execution_count": 14,
   "metadata": {},
   "outputs": [
    {
     "data": {
      "text/html": [
       "<div>\n",
       "<style scoped>\n",
       "    .dataframe tbody tr th:only-of-type {\n",
       "        vertical-align: middle;\n",
       "    }\n",
       "\n",
       "    .dataframe tbody tr th {\n",
       "        vertical-align: top;\n",
       "    }\n",
       "\n",
       "    .dataframe thead th {\n",
       "        text-align: right;\n",
       "    }\n",
       "</style>\n",
       "<table border=\"1\" class=\"dataframe\">\n",
       "  <thead>\n",
       "    <tr style=\"text-align: right;\">\n",
       "      <th></th>\n",
       "      <th>Fold</th>\n",
       "      <th>lgbm-pearson</th>\n",
       "      <th>lgbm-spearman</th>\n",
       "      <th>lgbm-mse</th>\n",
       "      <th>svr-pearson</th>\n",
       "      <th>svr-spearman</th>\n",
       "      <th>svr-mse</th>\n",
       "      <th>etr-pearson</th>\n",
       "      <th>etr-spearman</th>\n",
       "      <th>etr-mse</th>\n",
       "    </tr>\n",
       "  </thead>\n",
       "  <tbody>\n",
       "    <tr>\n",
       "      <th>0</th>\n",
       "      <td>0</td>\n",
       "      <td>0.886926</td>\n",
       "      <td>0.908853</td>\n",
       "      <td>0.274590</td>\n",
       "      <td>0.912153</td>\n",
       "      <td>0.918939</td>\n",
       "      <td>0.265252</td>\n",
       "      <td>0.905598</td>\n",
       "      <td>0.918477</td>\n",
       "      <td>0.288156</td>\n",
       "    </tr>\n",
       "    <tr>\n",
       "      <th>1</th>\n",
       "      <td>1</td>\n",
       "      <td>0.912899</td>\n",
       "      <td>0.908904</td>\n",
       "      <td>0.463565</td>\n",
       "      <td>0.915817</td>\n",
       "      <td>0.902961</td>\n",
       "      <td>0.345724</td>\n",
       "      <td>0.910011</td>\n",
       "      <td>0.906087</td>\n",
       "      <td>0.371756</td>\n",
       "    </tr>\n",
       "    <tr>\n",
       "      <th>2</th>\n",
       "      <td>2</td>\n",
       "      <td>0.947781</td>\n",
       "      <td>0.947909</td>\n",
       "      <td>0.384239</td>\n",
       "      <td>0.928589</td>\n",
       "      <td>0.922569</td>\n",
       "      <td>0.346167</td>\n",
       "      <td>0.932183</td>\n",
       "      <td>0.937628</td>\n",
       "      <td>0.350606</td>\n",
       "    </tr>\n",
       "    <tr>\n",
       "      <th>3</th>\n",
       "      <td>3</td>\n",
       "      <td>0.934168</td>\n",
       "      <td>0.951592</td>\n",
       "      <td>0.368444</td>\n",
       "      <td>0.927308</td>\n",
       "      <td>0.944781</td>\n",
       "      <td>0.315612</td>\n",
       "      <td>0.931915</td>\n",
       "      <td>0.952664</td>\n",
       "      <td>0.309957</td>\n",
       "    </tr>\n",
       "    <tr>\n",
       "      <th>4</th>\n",
       "      <td>4</td>\n",
       "      <td>0.890025</td>\n",
       "      <td>0.945080</td>\n",
       "      <td>0.363529</td>\n",
       "      <td>0.898692</td>\n",
       "      <td>0.943143</td>\n",
       "      <td>0.342812</td>\n",
       "      <td>0.892689</td>\n",
       "      <td>0.935775</td>\n",
       "      <td>0.376331</td>\n",
       "    </tr>\n",
       "    <tr>\n",
       "      <th>0</th>\n",
       "      <td>mean</td>\n",
       "      <td>0.914360</td>\n",
       "      <td>0.932468</td>\n",
       "      <td>0.370873</td>\n",
       "      <td>0.916512</td>\n",
       "      <td>0.926479</td>\n",
       "      <td>0.323113</td>\n",
       "      <td>0.914479</td>\n",
       "      <td>0.930126</td>\n",
       "      <td>0.339361</td>\n",
       "    </tr>\n",
       "  </tbody>\n",
       "</table>\n",
       "</div>"
      ],
      "text/plain": [
       "   Fold  lgbm-pearson  lgbm-spearman  lgbm-mse  svr-pearson  svr-spearman  \\\n",
       "0     0      0.886926       0.908853  0.274590     0.912153      0.918939   \n",
       "1     1      0.912899       0.908904  0.463565     0.915817      0.902961   \n",
       "2     2      0.947781       0.947909  0.384239     0.928589      0.922569   \n",
       "3     3      0.934168       0.951592  0.368444     0.927308      0.944781   \n",
       "4     4      0.890025       0.945080  0.363529     0.898692      0.943143   \n",
       "0  mean      0.914360       0.932468  0.370873     0.916512      0.926479   \n",
       "\n",
       "    svr-mse  etr-pearson  etr-spearman   etr-mse  \n",
       "0  0.265252     0.905598      0.918477  0.288156  \n",
       "1  0.345724     0.910011      0.906087  0.371756  \n",
       "2  0.346167     0.932183      0.937628  0.350606  \n",
       "3  0.315612     0.931915      0.952664  0.309957  \n",
       "4  0.342812     0.892689      0.935775  0.376331  \n",
       "0  0.323113     0.914479      0.930126  0.339361  "
      ]
     },
     "execution_count": 14,
     "metadata": {},
     "output_type": "execute_result"
    }
   ],
   "source": [
    "df_results"
   ]
  }
 ],
 "metadata": {
  "kernelspec": {
   "display_name": "tccVenv2",
   "language": "python",
   "name": "python3"
  },
  "language_info": {
   "codemirror_mode": {
    "name": "ipython",
    "version": 3
   },
   "file_extension": ".py",
   "mimetype": "text/x-python",
   "name": "python",
   "nbconvert_exporter": "python",
   "pygments_lexer": "ipython3",
   "version": "3.10.4"
  },
  "orig_nbformat": 4,
  "vscode": {
   "interpreter": {
    "hash": "88c321ef43037ea5124ac7a75f84feb39a5fe4fda135b2c0126c516c84ba22bc"
   }
  }
 },
 "nbformat": 4,
 "nbformat_minor": 2
}
