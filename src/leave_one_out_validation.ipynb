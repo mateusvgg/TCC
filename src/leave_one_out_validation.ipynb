{
 "cells": [
  {
   "cell_type": "code",
   "execution_count": 61,
   "metadata": {},
   "outputs": [],
   "source": [
    "import torch\n",
    "import joblib\n",
    "from tqdm import tqdm\n",
    "import pandas as pd\n",
    "import numpy as np\n",
    "import lightgbm as lgb\n",
    "from sklearn.svm import SVR\n",
    "from sklearn.ensemble import ExtraTreesRegressor\n",
    "from sklearn.model_selection import RandomizedSearchCV, train_test_split\n",
    "from sklearn.metrics import mean_squared_error\n",
    "from scipy.stats import spearmanr, pearsonr"
   ]
  },
  {
   "cell_type": "code",
   "execution_count": 8,
   "metadata": {},
   "outputs": [],
   "source": [
    "x_train = torch.load('../data/X_tensor_APSIPA.pt')\n",
    "y_train = torch.load('../data/y_tensor_APSIPA.pt')\n",
    "ref_names = joblib.load('../data/ref_names_APSIPA.pkl')"
   ]
  },
  {
   "cell_type": "code",
   "execution_count": 9,
   "metadata": {},
   "outputs": [],
   "source": [
    "X_train = []\n",
    "for x in x_train:\n",
    "    vector = [v.detach().numpy() for v in x]\n",
    "    X_train.append(vector)"
   ]
  },
  {
   "cell_type": "code",
   "execution_count": 11,
   "metadata": {},
   "outputs": [],
   "source": [
    "refs = list(set(ref_names))"
   ]
  },
  {
   "cell_type": "code",
   "execution_count": 30,
   "metadata": {},
   "outputs": [
    {
     "data": {
      "text/plain": [
       "['head_00039_vox9',\n",
       " 'romanoillamp_vox10',\n",
       " 'amphoriskos_vox10',\n",
       " 'loot_vox10_1200',\n",
       " 'biplane_vox10',\n",
       " 'longdress_vox10_1300',\n",
       " 'the20smaria_00600_vox10',\n",
       " 'soldier_vox10_0690']"
      ]
     },
     "execution_count": 30,
     "metadata": {},
     "output_type": "execute_result"
    }
   ],
   "source": [
    "refs"
   ]
  },
  {
   "cell_type": "code",
   "execution_count": 51,
   "metadata": {},
   "outputs": [],
   "source": [
    "# the key is the reference that is excluded from the group\n",
    "groups = {}\n",
    "for ref in refs:\n",
    "    xtrain, ytrain = [], []\n",
    "    xtest, ytest = [], []\n",
    "    for i, ref_name in enumerate(ref_names):\n",
    "        if ref_name == ref:\n",
    "            xtest.append(X_train[i])\n",
    "            ytest.append(y_train[i])\n",
    "            continue\n",
    "        xtrain.append(X_train[i])\n",
    "        ytrain.append(y_train[i])\n",
    "    groups[ref] = [xtrain, ytrain, xtest, ytest]"
   ]
  },
  {
   "cell_type": "code",
   "execution_count": 34,
   "metadata": {},
   "outputs": [],
   "source": [
    "etr_model = ExtraTreesRegressor(\n",
    "    n_estimators=37,\n",
    "    min_samples_split=15,\n",
    "    min_samples_leaf=4,\n",
    "    max_features='log2',  # type: ignore\n",
    "    max_depth=7\n",
    ")"
   ]
  },
  {
   "cell_type": "code",
   "execution_count": 36,
   "metadata": {},
   "outputs": [],
   "source": [
    "svr_model = SVR(\n",
    "    kernel='rbf',\n",
    "    gamma=1,  # type: ignore\n",
    "    epsilon=0.01,\n",
    "    degree=2,\n",
    "    C=5\n",
    ")"
   ]
  },
  {
   "cell_type": "code",
   "execution_count": 37,
   "metadata": {},
   "outputs": [],
   "source": [
    "lgbm_model = lgb.LGBMRegressor(\n",
    "    subsample_for_bin=140000,\n",
    "    reg_lambda=0.1,\n",
    "    reg_alpha=1.0,\n",
    "    num_leaves=100,\n",
    "    n_estimators=166,\n",
    "    min_split_gain=1,\n",
    "    min_child_weight=0.0001,\n",
    "    min_child_samples=20,\n",
    "    learning_rate=0.1,\n",
    "    colsample_bytree=1.0,\n",
    "    boosting_type='dart'\n",
    ")"
   ]
  },
  {
   "cell_type": "code",
   "execution_count": 38,
   "metadata": {},
   "outputs": [],
   "source": [
    "models = {\n",
    "    'lgbm': lgbm_model,\n",
    "    'svr': svr_model,\n",
    "    'etr': etr_model\n",
    "}"
   ]
  },
  {
   "cell_type": "code",
   "execution_count": 72,
   "metadata": {},
   "outputs": [
    {
     "name": "stderr",
     "output_type": "stream",
     "text": [
      "100%|██████████| 8/8 [00:02<00:00,  2.73it/s]\n"
     ]
    }
   ],
   "source": [
    "results = []\n",
    "for ref_out, xy in tqdm(groups.items()):\n",
    "    result = {'group_out': ref_out}\n",
    "    xtrain, ytrain = xy[0], xy[1]\n",
    "    xtest, ytest = xy[2], xy[3]\n",
    "    for model_name, model in models.items():\n",
    "        model.fit(xtrain, ytrain)\n",
    "        ypred = model.predict(xtest)\n",
    "        result[f'{model_name}-pearson'] = pearsonr(ytest, ypred)[0]\n",
    "        result[f'{model_name}-spearman'] = spearmanr(ytest, ypred)[0]\n",
    "        result[f'{model_name}-mse'] = mean_squared_error(ytest, ypred)\n",
    "    results.append(result)"
   ]
  },
  {
   "cell_type": "code",
   "execution_count": 73,
   "metadata": {},
   "outputs": [],
   "source": [
    "df_results = pd.DataFrame(results)"
   ]
  },
  {
   "cell_type": "code",
   "execution_count": 76,
   "metadata": {},
   "outputs": [],
   "source": [
    "to_concat = {\n",
    "    'group_out': 'mean',\n",
    "    'lgbm-pearson': df_results.loc[:, 'lgbm-pearson'].mean(),\n",
    "    'lgbm-spearman': df_results.loc[:, 'lgbm-spearman'].mean(),\n",
    "    'lgbm-mse': df_results.loc[:, 'lgbm-mse'].mean(),\n",
    "    'svr-pearson': df_results.loc[:, 'svr-pearson'].mean(),\n",
    "    'svr-spearman': df_results.loc[:, 'svr-spearman'].mean(),\n",
    "    'svr-mse': df_results.loc[:, 'svr-mse'].mean(),\n",
    "    'etr-pearson': df_results.loc[:, 'etr-pearson'].mean(),\n",
    "    'etr-spearman': df_results.loc[:, 'etr-spearman'].mean(),\n",
    "    'etr-mse': df_results.loc[:, 'etr-mse'].mean()\n",
    "}"
   ]
  },
  {
   "cell_type": "code",
   "execution_count": 82,
   "metadata": {},
   "outputs": [],
   "source": [
    "df_conc = pd.DataFrame([to_concat])\n",
    "df_results = pd.concat([df_results, df_conc])"
   ]
  },
  {
   "cell_type": "code",
   "execution_count": 83,
   "metadata": {},
   "outputs": [
    {
     "data": {
      "text/html": [
       "<div>\n",
       "<style scoped>\n",
       "    .dataframe tbody tr th:only-of-type {\n",
       "        vertical-align: middle;\n",
       "    }\n",
       "\n",
       "    .dataframe tbody tr th {\n",
       "        vertical-align: top;\n",
       "    }\n",
       "\n",
       "    .dataframe thead th {\n",
       "        text-align: right;\n",
       "    }\n",
       "</style>\n",
       "<table border=\"1\" class=\"dataframe\">\n",
       "  <thead>\n",
       "    <tr style=\"text-align: right;\">\n",
       "      <th></th>\n",
       "      <th>group_out</th>\n",
       "      <th>lgbm-pearson</th>\n",
       "      <th>lgbm-spearman</th>\n",
       "      <th>lgbm-mse</th>\n",
       "      <th>svr-pearson</th>\n",
       "      <th>svr-spearman</th>\n",
       "      <th>svr-mse</th>\n",
       "      <th>etr-pearson</th>\n",
       "      <th>etr-spearman</th>\n",
       "      <th>etr-mse</th>\n",
       "    </tr>\n",
       "  </thead>\n",
       "  <tbody>\n",
       "    <tr>\n",
       "      <th>0</th>\n",
       "      <td>head_00039_vox9</td>\n",
       "      <td>0.954444</td>\n",
       "      <td>0.973553</td>\n",
       "      <td>0.693719</td>\n",
       "      <td>0.958956</td>\n",
       "      <td>0.972627</td>\n",
       "      <td>0.486603</td>\n",
       "      <td>0.946839</td>\n",
       "      <td>0.985944</td>\n",
       "      <td>0.477254</td>\n",
       "    </tr>\n",
       "    <tr>\n",
       "      <th>1</th>\n",
       "      <td>romanoillamp_vox10</td>\n",
       "      <td>0.954732</td>\n",
       "      <td>0.964774</td>\n",
       "      <td>0.650140</td>\n",
       "      <td>0.943044</td>\n",
       "      <td>0.949680</td>\n",
       "      <td>0.457908</td>\n",
       "      <td>0.943354</td>\n",
       "      <td>0.953874</td>\n",
       "      <td>0.440951</td>\n",
       "    </tr>\n",
       "    <tr>\n",
       "      <th>2</th>\n",
       "      <td>amphoriskos_vox10</td>\n",
       "      <td>0.905410</td>\n",
       "      <td>0.941721</td>\n",
       "      <td>0.317693</td>\n",
       "      <td>0.924268</td>\n",
       "      <td>0.952076</td>\n",
       "      <td>0.282869</td>\n",
       "      <td>0.922278</td>\n",
       "      <td>0.953308</td>\n",
       "      <td>0.306560</td>\n",
       "    </tr>\n",
       "    <tr>\n",
       "      <th>3</th>\n",
       "      <td>loot_vox10_1200</td>\n",
       "      <td>0.938353</td>\n",
       "      <td>0.972065</td>\n",
       "      <td>0.194798</td>\n",
       "      <td>0.940321</td>\n",
       "      <td>0.972716</td>\n",
       "      <td>0.307531</td>\n",
       "      <td>0.921873</td>\n",
       "      <td>0.970247</td>\n",
       "      <td>0.433148</td>\n",
       "    </tr>\n",
       "    <tr>\n",
       "      <th>4</th>\n",
       "      <td>biplane_vox10</td>\n",
       "      <td>0.949477</td>\n",
       "      <td>0.981732</td>\n",
       "      <td>0.951615</td>\n",
       "      <td>0.939075</td>\n",
       "      <td>0.965874</td>\n",
       "      <td>0.696461</td>\n",
       "      <td>0.946222</td>\n",
       "      <td>0.977082</td>\n",
       "      <td>0.620164</td>\n",
       "    </tr>\n",
       "    <tr>\n",
       "      <th>5</th>\n",
       "      <td>longdress_vox10_1300</td>\n",
       "      <td>0.886687</td>\n",
       "      <td>0.961844</td>\n",
       "      <td>0.467367</td>\n",
       "      <td>0.933535</td>\n",
       "      <td>0.974565</td>\n",
       "      <td>0.409050</td>\n",
       "      <td>0.926261</td>\n",
       "      <td>0.970980</td>\n",
       "      <td>0.366517</td>\n",
       "    </tr>\n",
       "    <tr>\n",
       "      <th>6</th>\n",
       "      <td>the20smaria_00600_vox10</td>\n",
       "      <td>0.951410</td>\n",
       "      <td>0.970280</td>\n",
       "      <td>0.153863</td>\n",
       "      <td>0.954043</td>\n",
       "      <td>0.977645</td>\n",
       "      <td>0.234751</td>\n",
       "      <td>0.960962</td>\n",
       "      <td>0.974927</td>\n",
       "      <td>0.205289</td>\n",
       "    </tr>\n",
       "    <tr>\n",
       "      <th>7</th>\n",
       "      <td>soldier_vox10_0690</td>\n",
       "      <td>0.956258</td>\n",
       "      <td>0.973613</td>\n",
       "      <td>0.144662</td>\n",
       "      <td>0.950766</td>\n",
       "      <td>0.973577</td>\n",
       "      <td>0.227720</td>\n",
       "      <td>0.952690</td>\n",
       "      <td>0.975553</td>\n",
       "      <td>0.245573</td>\n",
       "    </tr>\n",
       "    <tr>\n",
       "      <th>0</th>\n",
       "      <td>mean</td>\n",
       "      <td>0.937096</td>\n",
       "      <td>0.967448</td>\n",
       "      <td>0.446732</td>\n",
       "      <td>0.943001</td>\n",
       "      <td>0.967345</td>\n",
       "      <td>0.387862</td>\n",
       "      <td>0.940060</td>\n",
       "      <td>0.970239</td>\n",
       "      <td>0.386932</td>\n",
       "    </tr>\n",
       "  </tbody>\n",
       "</table>\n",
       "</div>"
      ],
      "text/plain": [
       "                 group_out  lgbm-pearson  lgbm-spearman  lgbm-mse  \\\n",
       "0          head_00039_vox9      0.954444       0.973553  0.693719   \n",
       "1       romanoillamp_vox10      0.954732       0.964774  0.650140   \n",
       "2        amphoriskos_vox10      0.905410       0.941721  0.317693   \n",
       "3          loot_vox10_1200      0.938353       0.972065  0.194798   \n",
       "4            biplane_vox10      0.949477       0.981732  0.951615   \n",
       "5     longdress_vox10_1300      0.886687       0.961844  0.467367   \n",
       "6  the20smaria_00600_vox10      0.951410       0.970280  0.153863   \n",
       "7       soldier_vox10_0690      0.956258       0.973613  0.144662   \n",
       "0                     mean      0.937096       0.967448  0.446732   \n",
       "\n",
       "   svr-pearson  svr-spearman   svr-mse  etr-pearson  etr-spearman   etr-mse  \n",
       "0     0.958956      0.972627  0.486603     0.946839      0.985944  0.477254  \n",
       "1     0.943044      0.949680  0.457908     0.943354      0.953874  0.440951  \n",
       "2     0.924268      0.952076  0.282869     0.922278      0.953308  0.306560  \n",
       "3     0.940321      0.972716  0.307531     0.921873      0.970247  0.433148  \n",
       "4     0.939075      0.965874  0.696461     0.946222      0.977082  0.620164  \n",
       "5     0.933535      0.974565  0.409050     0.926261      0.970980  0.366517  \n",
       "6     0.954043      0.977645  0.234751     0.960962      0.974927  0.205289  \n",
       "7     0.950766      0.973577  0.227720     0.952690      0.975553  0.245573  \n",
       "0     0.943001      0.967345  0.387862     0.940060      0.970239  0.386932  "
      ]
     },
     "execution_count": 83,
     "metadata": {},
     "output_type": "execute_result"
    }
   ],
   "source": [
    "df_results"
   ]
  }
 ],
 "metadata": {
  "kernelspec": {
   "display_name": "tccVenv2",
   "language": "python",
   "name": "python3"
  },
  "language_info": {
   "codemirror_mode": {
    "name": "ipython",
    "version": 3
   },
   "file_extension": ".py",
   "mimetype": "text/x-python",
   "name": "python",
   "nbconvert_exporter": "python",
   "pygments_lexer": "ipython3",
   "version": "3.10.4"
  },
  "orig_nbformat": 4,
  "vscode": {
   "interpreter": {
    "hash": "88c321ef43037ea5124ac7a75f84feb39a5fe4fda135b2c0126c516c84ba22bc"
   }
  }
 },
 "nbformat": 4,
 "nbformat_minor": 2
}
