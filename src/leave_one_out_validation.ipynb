{
 "cells": [
  {
   "cell_type": "code",
   "execution_count": 1,
   "metadata": {},
   "outputs": [],
   "source": [
    "import torch\n",
    "import joblib\n",
    "from tqdm import tqdm\n",
    "import pandas as pd\n",
    "import numpy as np\n",
    "import lightgbm as lgb\n",
    "from sklearn.svm import SVR\n",
    "from sklearn.ensemble import ExtraTreesRegressor\n",
    "from sklearn.model_selection import RandomizedSearchCV, train_test_split\n",
    "from sklearn.metrics import mean_squared_error\n",
    "from scipy.stats import spearmanr, pearsonr"
   ]
  },
  {
   "cell_type": "code",
   "execution_count": 18,
   "metadata": {},
   "outputs": [],
   "source": [
    "x_train = torch.load('../data/X_tensor_APSIPA.pt')\n",
    "y_train = torch.load('../data/y_tensor_APSIPA.pt')\n",
    "ref_names = joblib.load('../data/ref_names_APSIPA.pkl')\n",
    "codec_names = joblib.load('../data/codecs_APSIPA.pkl')"
   ]
  },
  {
   "cell_type": "code",
   "execution_count": 19,
   "metadata": {},
   "outputs": [],
   "source": [
    "X_train = []\n",
    "for x in x_train:\n",
    "    vector = [v.detach().numpy() for v in x]\n",
    "    X_train.append(vector)"
   ]
  },
  {
   "cell_type": "code",
   "execution_count": 20,
   "metadata": {},
   "outputs": [],
   "source": [
    "refs = list(set(ref_names))\n",
    "codecs = list(set(codec_names))"
   ]
  },
  {
   "cell_type": "code",
   "execution_count": 5,
   "metadata": {},
   "outputs": [
    {
     "data": {
      "text/plain": [
       "['romanoillamp_vox10',\n",
       " 'loot_vox10_1200',\n",
       " 'head_00039_vox9',\n",
       " 'the20smaria_00600_vox10',\n",
       " 'soldier_vox10_0690',\n",
       " 'amphoriskos_vox10',\n",
       " 'longdress_vox10_1300',\n",
       " 'biplane_vox10']"
      ]
     },
     "execution_count": 5,
     "metadata": {},
     "output_type": "execute_result"
    }
   ],
   "source": [
    "refs"
   ]
  },
  {
   "cell_type": "code",
   "execution_count": 21,
   "metadata": {},
   "outputs": [
    {
     "data": {
      "text/plain": [
       "['TEXT', 'TRISOUP_PREDLIFT', 'OCTREE_PRED_LIFT', 'TRISOUP_RAHT', 'OCTREE_RAHT']"
      ]
     },
     "execution_count": 21,
     "metadata": {},
     "output_type": "execute_result"
    }
   ],
   "source": [
    "codecs"
   ]
  },
  {
   "cell_type": "code",
   "execution_count": 22,
   "metadata": {},
   "outputs": [],
   "source": [
    "# the key is the reference that is excluded from the group\n",
    "groups_by_ref = {}\n",
    "for ref in refs:\n",
    "    xtrain, ytrain = [], []\n",
    "    xtest, ytest = [], []\n",
    "    for i, ref_name in enumerate(ref_names):\n",
    "        if ref_name == ref:\n",
    "            xtest.append(X_train[i])\n",
    "            ytest.append(y_train[i])\n",
    "            continue\n",
    "        xtrain.append(X_train[i])\n",
    "        ytrain.append(y_train[i])\n",
    "    groups_by_ref[ref] = [xtrain, ytrain, xtest, ytest]"
   ]
  },
  {
   "cell_type": "code",
   "execution_count": 30,
   "metadata": {},
   "outputs": [],
   "source": [
    "# the key is the reference that is excluded from the group\n",
    "groups_by_codec = {}\n",
    "for codec in codecs:\n",
    "    xtrain, ytrain = [], []\n",
    "    xtest, ytest = [], []\n",
    "    for i, codec_name in enumerate(codec_names):\n",
    "        if codec_name == codec:\n",
    "            xtest.append(X_train[i])\n",
    "            ytest.append(y_train[i])\n",
    "            continue\n",
    "        xtrain.append(X_train[i])\n",
    "        ytrain.append(y_train[i])\n",
    "    groups_by_codec[codec] = [xtrain, ytrain, xtest, ytest]"
   ]
  },
  {
   "cell_type": "code",
   "execution_count": 24,
   "metadata": {},
   "outputs": [],
   "source": [
    "def get_etr_model():\n",
    "    return ExtraTreesRegressor(\n",
    "    n_estimators=37,\n",
    "    min_samples_split=15,\n",
    "    min_samples_leaf=4,\n",
    "    max_features='log2',  # type: ignore\n",
    "    max_depth=7\n",
    ")"
   ]
  },
  {
   "cell_type": "code",
   "execution_count": 25,
   "metadata": {},
   "outputs": [],
   "source": [
    "def get_svr_model():\n",
    "    return SVR(\n",
    "        kernel='rbf',\n",
    "        gamma=1,  # type: ignore\n",
    "        epsilon=0.01,\n",
    "        degree=2,\n",
    "        C=5\n",
    "    )"
   ]
  },
  {
   "cell_type": "code",
   "execution_count": 26,
   "metadata": {},
   "outputs": [],
   "source": [
    "def get_lgbm_model():\n",
    "    return lgb.LGBMRegressor(\n",
    "        subsample_for_bin=140000,\n",
    "        reg_lambda=0.1,\n",
    "        reg_alpha=1.0,\n",
    "        num_leaves=100,\n",
    "        n_estimators=166,\n",
    "        min_split_gain=1,\n",
    "        min_child_weight=0.0001,\n",
    "        min_child_samples=20,\n",
    "        learning_rate=0.1,\n",
    "        colsample_bytree=1.0,\n",
    "        boosting_type='dart'\n",
    "    )"
   ]
  },
  {
   "cell_type": "code",
   "execution_count": 27,
   "metadata": {},
   "outputs": [],
   "source": [
    "models = ['lgbm', 'svr', 'etr']"
   ]
  },
  {
   "cell_type": "code",
   "execution_count": 28,
   "metadata": {},
   "outputs": [
    {
     "name": "stderr",
     "output_type": "stream",
     "text": [
      "100%|██████████| 8/8 [00:01<00:00,  4.15it/s]\n"
     ]
    }
   ],
   "source": [
    "results_by_ref = []\n",
    "for ref_out, xy in tqdm(groups_by_ref.items()):\n",
    "    result = {'group_out': ref_out}\n",
    "    xtrain, ytrain = xy[0], xy[1]\n",
    "    xtest, ytest = xy[2], xy[3]\n",
    "    for model_name in models:\n",
    "        if model_name == 'lgbm':\n",
    "            model = get_lgbm_model()\n",
    "        if model_name == 'svr':\n",
    "            model = get_svr_model()\n",
    "        if model_name == 'etr':\n",
    "            model = get_etr_model()\n",
    "        model.fit(xtrain, ytrain)\n",
    "        ypred = model.predict(xtest)\n",
    "        result[f'{model_name}-pearson'] = pearsonr(ytest, ypred)[0]\n",
    "        result[f'{model_name}-spearman'] = spearmanr(ytest, ypred)[0]\n",
    "        result[f'{model_name}-mse'] = mean_squared_error(ytest, ypred)\n",
    "    results_by_ref.append(result)"
   ]
  },
  {
   "cell_type": "code",
   "execution_count": 31,
   "metadata": {},
   "outputs": [
    {
     "name": "stderr",
     "output_type": "stream",
     "text": [
      "100%|██████████| 5/5 [00:01<00:00,  3.30it/s]\n"
     ]
    }
   ],
   "source": [
    "results_by_codec = []\n",
    "for codec_out, xy in tqdm(groups_by_codec.items()):\n",
    "    result = {'group_out': codec_out}\n",
    "    xtrain, ytrain = xy[0], xy[1]\n",
    "    xtest, ytest = xy[2], xy[3]\n",
    "    for model_name in models:\n",
    "        if model_name == 'lgbm':\n",
    "            model = get_lgbm_model()\n",
    "        if model_name == 'svr':\n",
    "            model = get_svr_model()\n",
    "        if model_name == 'etr':\n",
    "            model = get_etr_model()\n",
    "        model.fit(xtrain, ytrain)\n",
    "        ypred = model.predict(xtest)\n",
    "        result[f'{model_name}-pearson'] = pearsonr(ytest, ypred)[0]\n",
    "        result[f'{model_name}-spearman'] = spearmanr(ytest, ypred)[0]\n",
    "        result[f'{model_name}-mse'] = mean_squared_error(ytest, ypred)\n",
    "    results_by_codec.append(result)"
   ]
  },
  {
   "cell_type": "code",
   "execution_count": 37,
   "metadata": {},
   "outputs": [],
   "source": [
    "df_results_by_ref = pd.DataFrame(results_by_ref)\n",
    "df_results_by_codec = pd.DataFrame(results_by_codec)"
   ]
  },
  {
   "cell_type": "code",
   "execution_count": 38,
   "metadata": {},
   "outputs": [],
   "source": [
    "to_concat_by_ref = {\n",
    "    'group_out': 'mean',\n",
    "    'lgbm-pearson': df_results_by_ref.loc[:, 'lgbm-pearson'].mean(),\n",
    "    'lgbm-spearman': df_results_by_ref.loc[:, 'lgbm-spearman'].mean(),\n",
    "    'lgbm-mse': df_results_by_ref.loc[:, 'lgbm-mse'].mean(),\n",
    "    'svr-pearson': df_results_by_ref.loc[:, 'svr-pearson'].mean(),\n",
    "    'svr-spearman': df_results_by_ref.loc[:, 'svr-spearman'].mean(),\n",
    "    'svr-mse': df_results_by_ref.loc[:, 'svr-mse'].mean(),\n",
    "    'etr-pearson': df_results_by_ref.loc[:, 'etr-pearson'].mean(),\n",
    "    'etr-spearman': df_results_by_ref.loc[:, 'etr-spearman'].mean(),\n",
    "    'etr-mse': df_results_by_ref.loc[:, 'etr-mse'].mean()\n",
    "}"
   ]
  },
  {
   "cell_type": "code",
   "execution_count": 39,
   "metadata": {},
   "outputs": [],
   "source": [
    "to_concat_by_codec = {\n",
    "    'group_out': 'mean',\n",
    "    'lgbm-pearson': df_results_by_codec.loc[:, 'lgbm-pearson'].mean(),\n",
    "    'lgbm-spearman': df_results_by_codec.loc[:, 'lgbm-spearman'].mean(),\n",
    "    'lgbm-mse': df_results_by_codec.loc[:, 'lgbm-mse'].mean(),\n",
    "    'svr-pearson': df_results_by_codec.loc[:, 'svr-pearson'].mean(),\n",
    "    'svr-spearman': df_results_by_codec.loc[:, 'svr-spearman'].mean(),\n",
    "    'svr-mse': df_results_by_codec.loc[:, 'svr-mse'].mean(),\n",
    "    'etr-pearson': df_results_by_codec.loc[:, 'etr-pearson'].mean(),\n",
    "    'etr-spearman': df_results_by_codec.loc[:, 'etr-spearman'].mean(),\n",
    "    'etr-mse': df_results_by_codec.loc[:, 'etr-mse'].mean()\n",
    "}"
   ]
  },
  {
   "cell_type": "code",
   "execution_count": 40,
   "metadata": {},
   "outputs": [],
   "source": [
    "df_conc_by_ref = pd.DataFrame([to_concat_by_ref])\n",
    "df_results_by_ref = pd.concat([df_results_by_ref, df_conc_by_ref])"
   ]
  },
  {
   "cell_type": "code",
   "execution_count": 41,
   "metadata": {},
   "outputs": [],
   "source": [
    "df_conc_by_codec = pd.DataFrame([to_concat_by_codec])\n",
    "df_results_by_codec = pd.concat([df_results_by_codec, df_conc_by_codec])"
   ]
  },
  {
   "cell_type": "code",
   "execution_count": 36,
   "metadata": {},
   "outputs": [
    {
     "data": {
      "text/html": [
       "<div>\n",
       "<style scoped>\n",
       "    .dataframe tbody tr th:only-of-type {\n",
       "        vertical-align: middle;\n",
       "    }\n",
       "\n",
       "    .dataframe tbody tr th {\n",
       "        vertical-align: top;\n",
       "    }\n",
       "\n",
       "    .dataframe thead th {\n",
       "        text-align: right;\n",
       "    }\n",
       "</style>\n",
       "<table border=\"1\" class=\"dataframe\">\n",
       "  <thead>\n",
       "    <tr style=\"text-align: right;\">\n",
       "      <th></th>\n",
       "      <th>group_out</th>\n",
       "      <th>lgbm-pearson</th>\n",
       "      <th>lgbm-spearman</th>\n",
       "      <th>lgbm-mse</th>\n",
       "      <th>svr-pearson</th>\n",
       "      <th>svr-spearman</th>\n",
       "      <th>svr-mse</th>\n",
       "      <th>etr-pearson</th>\n",
       "      <th>etr-spearman</th>\n",
       "      <th>etr-mse</th>\n",
       "    </tr>\n",
       "  </thead>\n",
       "  <tbody>\n",
       "    <tr>\n",
       "      <th>0</th>\n",
       "      <td>romanoillamp_vox10</td>\n",
       "      <td>0.954732</td>\n",
       "      <td>0.964774</td>\n",
       "      <td>0.650140</td>\n",
       "      <td>0.943044</td>\n",
       "      <td>0.949680</td>\n",
       "      <td>0.457908</td>\n",
       "      <td>0.943577</td>\n",
       "      <td>0.948200</td>\n",
       "      <td>0.429481</td>\n",
       "    </tr>\n",
       "    <tr>\n",
       "      <th>1</th>\n",
       "      <td>loot_vox10_1200</td>\n",
       "      <td>0.938353</td>\n",
       "      <td>0.972065</td>\n",
       "      <td>0.194798</td>\n",
       "      <td>0.940321</td>\n",
       "      <td>0.972716</td>\n",
       "      <td>0.307531</td>\n",
       "      <td>0.935760</td>\n",
       "      <td>0.971234</td>\n",
       "      <td>0.353658</td>\n",
       "    </tr>\n",
       "    <tr>\n",
       "      <th>2</th>\n",
       "      <td>head_00039_vox9</td>\n",
       "      <td>0.954444</td>\n",
       "      <td>0.973553</td>\n",
       "      <td>0.693719</td>\n",
       "      <td>0.958956</td>\n",
       "      <td>0.972627</td>\n",
       "      <td>0.486603</td>\n",
       "      <td>0.946296</td>\n",
       "      <td>0.981012</td>\n",
       "      <td>0.512762</td>\n",
       "    </tr>\n",
       "    <tr>\n",
       "      <th>3</th>\n",
       "      <td>the20smaria_00600_vox10</td>\n",
       "      <td>0.951410</td>\n",
       "      <td>0.970280</td>\n",
       "      <td>0.153863</td>\n",
       "      <td>0.954043</td>\n",
       "      <td>0.977645</td>\n",
       "      <td>0.234751</td>\n",
       "      <td>0.957994</td>\n",
       "      <td>0.972704</td>\n",
       "      <td>0.240833</td>\n",
       "    </tr>\n",
       "    <tr>\n",
       "      <th>4</th>\n",
       "      <td>soldier_vox10_0690</td>\n",
       "      <td>0.956258</td>\n",
       "      <td>0.973613</td>\n",
       "      <td>0.144662</td>\n",
       "      <td>0.950766</td>\n",
       "      <td>0.973577</td>\n",
       "      <td>0.227720</td>\n",
       "      <td>0.953819</td>\n",
       "      <td>0.975553</td>\n",
       "      <td>0.248190</td>\n",
       "    </tr>\n",
       "    <tr>\n",
       "      <th>5</th>\n",
       "      <td>amphoriskos_vox10</td>\n",
       "      <td>0.905410</td>\n",
       "      <td>0.941721</td>\n",
       "      <td>0.317693</td>\n",
       "      <td>0.924268</td>\n",
       "      <td>0.952076</td>\n",
       "      <td>0.282869</td>\n",
       "      <td>0.918189</td>\n",
       "      <td>0.951090</td>\n",
       "      <td>0.320457</td>\n",
       "    </tr>\n",
       "    <tr>\n",
       "      <th>6</th>\n",
       "      <td>longdress_vox10_1300</td>\n",
       "      <td>0.886687</td>\n",
       "      <td>0.961844</td>\n",
       "      <td>0.467367</td>\n",
       "      <td>0.933535</td>\n",
       "      <td>0.974565</td>\n",
       "      <td>0.409050</td>\n",
       "      <td>0.919799</td>\n",
       "      <td>0.972215</td>\n",
       "      <td>0.429160</td>\n",
       "    </tr>\n",
       "    <tr>\n",
       "      <th>7</th>\n",
       "      <td>biplane_vox10</td>\n",
       "      <td>0.949477</td>\n",
       "      <td>0.981732</td>\n",
       "      <td>0.951615</td>\n",
       "      <td>0.939075</td>\n",
       "      <td>0.965874</td>\n",
       "      <td>0.696461</td>\n",
       "      <td>0.943555</td>\n",
       "      <td>0.977701</td>\n",
       "      <td>0.652686</td>\n",
       "    </tr>\n",
       "    <tr>\n",
       "      <th>0</th>\n",
       "      <td>mean</td>\n",
       "      <td>0.937096</td>\n",
       "      <td>0.967448</td>\n",
       "      <td>0.446732</td>\n",
       "      <td>0.943001</td>\n",
       "      <td>0.967345</td>\n",
       "      <td>0.387862</td>\n",
       "      <td>0.939873</td>\n",
       "      <td>0.968714</td>\n",
       "      <td>0.398403</td>\n",
       "    </tr>\n",
       "  </tbody>\n",
       "</table>\n",
       "</div>"
      ],
      "text/plain": [
       "                 group_out  lgbm-pearson  lgbm-spearman  lgbm-mse  \\\n",
       "0       romanoillamp_vox10      0.954732       0.964774  0.650140   \n",
       "1          loot_vox10_1200      0.938353       0.972065  0.194798   \n",
       "2          head_00039_vox9      0.954444       0.973553  0.693719   \n",
       "3  the20smaria_00600_vox10      0.951410       0.970280  0.153863   \n",
       "4       soldier_vox10_0690      0.956258       0.973613  0.144662   \n",
       "5        amphoriskos_vox10      0.905410       0.941721  0.317693   \n",
       "6     longdress_vox10_1300      0.886687       0.961844  0.467367   \n",
       "7            biplane_vox10      0.949477       0.981732  0.951615   \n",
       "0                     mean      0.937096       0.967448  0.446732   \n",
       "\n",
       "   svr-pearson  svr-spearman   svr-mse  etr-pearson  etr-spearman   etr-mse  \n",
       "0     0.943044      0.949680  0.457908     0.943577      0.948200  0.429481  \n",
       "1     0.940321      0.972716  0.307531     0.935760      0.971234  0.353658  \n",
       "2     0.958956      0.972627  0.486603     0.946296      0.981012  0.512762  \n",
       "3     0.954043      0.977645  0.234751     0.957994      0.972704  0.240833  \n",
       "4     0.950766      0.973577  0.227720     0.953819      0.975553  0.248190  \n",
       "5     0.924268      0.952076  0.282869     0.918189      0.951090  0.320457  \n",
       "6     0.933535      0.974565  0.409050     0.919799      0.972215  0.429160  \n",
       "7     0.939075      0.965874  0.696461     0.943555      0.977701  0.652686  \n",
       "0     0.943001      0.967345  0.387862     0.939873      0.968714  0.398403  "
      ]
     },
     "execution_count": 36,
     "metadata": {},
     "output_type": "execute_result"
    }
   ],
   "source": [
    "df_results_by_ref"
   ]
  },
  {
   "cell_type": "code",
   "execution_count": 42,
   "metadata": {},
   "outputs": [
    {
     "data": {
      "text/html": [
       "<div>\n",
       "<style scoped>\n",
       "    .dataframe tbody tr th:only-of-type {\n",
       "        vertical-align: middle;\n",
       "    }\n",
       "\n",
       "    .dataframe tbody tr th {\n",
       "        vertical-align: top;\n",
       "    }\n",
       "\n",
       "    .dataframe thead th {\n",
       "        text-align: right;\n",
       "    }\n",
       "</style>\n",
       "<table border=\"1\" class=\"dataframe\">\n",
       "  <thead>\n",
       "    <tr style=\"text-align: right;\">\n",
       "      <th></th>\n",
       "      <th>group_out</th>\n",
       "      <th>lgbm-pearson</th>\n",
       "      <th>lgbm-spearman</th>\n",
       "      <th>lgbm-mse</th>\n",
       "      <th>svr-pearson</th>\n",
       "      <th>svr-spearman</th>\n",
       "      <th>svr-mse</th>\n",
       "      <th>etr-pearson</th>\n",
       "      <th>etr-spearman</th>\n",
       "      <th>etr-mse</th>\n",
       "    </tr>\n",
       "  </thead>\n",
       "  <tbody>\n",
       "    <tr>\n",
       "      <th>0</th>\n",
       "      <td>TEXT</td>\n",
       "      <td>0.758858</td>\n",
       "      <td>0.778513</td>\n",
       "      <td>0.747033</td>\n",
       "      <td>0.746872</td>\n",
       "      <td>0.748968</td>\n",
       "      <td>0.534426</td>\n",
       "      <td>0.727012</td>\n",
       "      <td>0.742586</td>\n",
       "      <td>0.597294</td>\n",
       "    </tr>\n",
       "    <tr>\n",
       "      <th>1</th>\n",
       "      <td>TRISOUP_PREDLIFT</td>\n",
       "      <td>0.890865</td>\n",
       "      <td>0.923112</td>\n",
       "      <td>0.367507</td>\n",
       "      <td>0.917649</td>\n",
       "      <td>0.924389</td>\n",
       "      <td>0.334415</td>\n",
       "      <td>0.911918</td>\n",
       "      <td>0.917246</td>\n",
       "      <td>0.363575</td>\n",
       "    </tr>\n",
       "    <tr>\n",
       "      <th>2</th>\n",
       "      <td>OCTREE_PRED_LIFT</td>\n",
       "      <td>0.967148</td>\n",
       "      <td>0.970886</td>\n",
       "      <td>0.270933</td>\n",
       "      <td>0.970171</td>\n",
       "      <td>0.965040</td>\n",
       "      <td>0.203554</td>\n",
       "      <td>0.963848</td>\n",
       "      <td>0.966187</td>\n",
       "      <td>0.224962</td>\n",
       "    </tr>\n",
       "    <tr>\n",
       "      <th>3</th>\n",
       "      <td>TRISOUP_RAHT</td>\n",
       "      <td>0.903553</td>\n",
       "      <td>0.936039</td>\n",
       "      <td>0.359598</td>\n",
       "      <td>0.898263</td>\n",
       "      <td>0.933291</td>\n",
       "      <td>0.392223</td>\n",
       "      <td>0.901169</td>\n",
       "      <td>0.936055</td>\n",
       "      <td>0.377531</td>\n",
       "    </tr>\n",
       "    <tr>\n",
       "      <th>4</th>\n",
       "      <td>OCTREE_RAHT</td>\n",
       "      <td>0.967294</td>\n",
       "      <td>0.961921</td>\n",
       "      <td>0.236708</td>\n",
       "      <td>0.958332</td>\n",
       "      <td>0.902742</td>\n",
       "      <td>0.223918</td>\n",
       "      <td>0.967960</td>\n",
       "      <td>0.956304</td>\n",
       "      <td>0.188979</td>\n",
       "    </tr>\n",
       "    <tr>\n",
       "      <th>0</th>\n",
       "      <td>mean</td>\n",
       "      <td>0.897544</td>\n",
       "      <td>0.914095</td>\n",
       "      <td>0.396356</td>\n",
       "      <td>0.898257</td>\n",
       "      <td>0.894886</td>\n",
       "      <td>0.337707</td>\n",
       "      <td>0.894382</td>\n",
       "      <td>0.903676</td>\n",
       "      <td>0.350468</td>\n",
       "    </tr>\n",
       "  </tbody>\n",
       "</table>\n",
       "</div>"
      ],
      "text/plain": [
       "          group_out  lgbm-pearson  lgbm-spearman  lgbm-mse  svr-pearson  \\\n",
       "0              TEXT      0.758858       0.778513  0.747033     0.746872   \n",
       "1  TRISOUP_PREDLIFT      0.890865       0.923112  0.367507     0.917649   \n",
       "2  OCTREE_PRED_LIFT      0.967148       0.970886  0.270933     0.970171   \n",
       "3      TRISOUP_RAHT      0.903553       0.936039  0.359598     0.898263   \n",
       "4       OCTREE_RAHT      0.967294       0.961921  0.236708     0.958332   \n",
       "0              mean      0.897544       0.914095  0.396356     0.898257   \n",
       "\n",
       "   svr-spearman   svr-mse  etr-pearson  etr-spearman   etr-mse  \n",
       "0      0.748968  0.534426     0.727012      0.742586  0.597294  \n",
       "1      0.924389  0.334415     0.911918      0.917246  0.363575  \n",
       "2      0.965040  0.203554     0.963848      0.966187  0.224962  \n",
       "3      0.933291  0.392223     0.901169      0.936055  0.377531  \n",
       "4      0.902742  0.223918     0.967960      0.956304  0.188979  \n",
       "0      0.894886  0.337707     0.894382      0.903676  0.350468  "
      ]
     },
     "execution_count": 42,
     "metadata": {},
     "output_type": "execute_result"
    }
   ],
   "source": [
    "df_results_by_codec"
   ]
  }
 ],
 "metadata": {
  "kernelspec": {
   "display_name": "tccVenv2",
   "language": "python",
   "name": "python3"
  },
  "language_info": {
   "codemirror_mode": {
    "name": "ipython",
    "version": 3
   },
   "file_extension": ".py",
   "mimetype": "text/x-python",
   "name": "python",
   "nbconvert_exporter": "python",
   "pygments_lexer": "ipython3",
   "version": "3.10.4"
  },
  "orig_nbformat": 4,
  "vscode": {
   "interpreter": {
    "hash": "88c321ef43037ea5124ac7a75f84feb39a5fe4fda135b2c0126c516c84ba22bc"
   }
  }
 },
 "nbformat": 4,
 "nbformat_minor": 2
}
