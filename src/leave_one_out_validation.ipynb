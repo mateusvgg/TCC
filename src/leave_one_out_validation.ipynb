{
 "cells": [
  {
   "cell_type": "code",
   "execution_count": 1,
   "metadata": {},
   "outputs": [],
   "source": [
    "import torch\n",
    "import joblib\n",
    "from tqdm import tqdm\n",
    "import pandas as pd\n",
    "import numpy as np\n",
    "import lightgbm as lgb\n",
    "from sklearn.svm import SVR\n",
    "from sklearn.ensemble import ExtraTreesRegressor\n",
    "from sklearn.model_selection import RandomizedSearchCV, train_test_split\n",
    "from sklearn.metrics import mean_squared_error\n",
    "from scipy.stats import spearmanr, pearsonr"
   ]
  },
  {
   "cell_type": "code",
   "execution_count": 2,
   "metadata": {},
   "outputs": [],
   "source": [
    "x_train = torch.load('../data/X_tensor_APSIPA.pt')\n",
    "y_train = torch.load('../data/y_tensor_APSIPA.pt')\n",
    "ref_names = joblib.load('../data/ref_names_APSIPA.pkl')"
   ]
  },
  {
   "cell_type": "code",
   "execution_count": 3,
   "metadata": {},
   "outputs": [],
   "source": [
    "X_train = []\n",
    "for x in x_train:\n",
    "    vector = [v.detach().numpy() for v in x]\n",
    "    X_train.append(vector)"
   ]
  },
  {
   "cell_type": "code",
   "execution_count": 4,
   "metadata": {},
   "outputs": [],
   "source": [
    "refs = list(set(ref_names))"
   ]
  },
  {
   "cell_type": "code",
   "execution_count": 5,
   "metadata": {},
   "outputs": [
    {
     "data": {
      "text/plain": [
       "['romanoillamp_vox10',\n",
       " 'loot_vox10_1200',\n",
       " 'head_00039_vox9',\n",
       " 'the20smaria_00600_vox10',\n",
       " 'soldier_vox10_0690',\n",
       " 'amphoriskos_vox10',\n",
       " 'longdress_vox10_1300',\n",
       " 'biplane_vox10']"
      ]
     },
     "execution_count": 5,
     "metadata": {},
     "output_type": "execute_result"
    }
   ],
   "source": [
    "refs"
   ]
  },
  {
   "cell_type": "code",
   "execution_count": 6,
   "metadata": {},
   "outputs": [],
   "source": [
    "# the key is the reference that is excluded from the group\n",
    "groups = {}\n",
    "for ref in refs:\n",
    "    xtrain, ytrain = [], []\n",
    "    xtest, ytest = [], []\n",
    "    for i, ref_name in enumerate(ref_names):\n",
    "        if ref_name == ref:\n",
    "            xtest.append(X_train[i])\n",
    "            ytest.append(y_train[i])\n",
    "            continue\n",
    "        xtrain.append(X_train[i])\n",
    "        ytrain.append(y_train[i])\n",
    "    groups[ref] = [xtrain, ytrain, xtest, ytest]"
   ]
  },
  {
   "cell_type": "code",
   "execution_count": 7,
   "metadata": {},
   "outputs": [],
   "source": [
    "def get_etr_model():\n",
    "    return ExtraTreesRegressor(\n",
    "    n_estimators=37,\n",
    "    min_samples_split=15,\n",
    "    min_samples_leaf=4,\n",
    "    max_features='log2',  # type: ignore\n",
    "    max_depth=7\n",
    ")"
   ]
  },
  {
   "cell_type": "code",
   "execution_count": 8,
   "metadata": {},
   "outputs": [],
   "source": [
    "def get_svr_model():\n",
    "    return SVR(\n",
    "        kernel='rbf',\n",
    "        gamma=1,  # type: ignore\n",
    "        epsilon=0.01,\n",
    "        degree=2,\n",
    "        C=5\n",
    "    )"
   ]
  },
  {
   "cell_type": "code",
   "execution_count": 9,
   "metadata": {},
   "outputs": [],
   "source": [
    "def get_lgbm_model():\n",
    "    return lgb.LGBMRegressor(\n",
    "        subsample_for_bin=140000,\n",
    "        reg_lambda=0.1,\n",
    "        reg_alpha=1.0,\n",
    "        num_leaves=100,\n",
    "        n_estimators=166,\n",
    "        min_split_gain=1,\n",
    "        min_child_weight=0.0001,\n",
    "        min_child_samples=20,\n",
    "        learning_rate=0.1,\n",
    "        colsample_bytree=1.0,\n",
    "        boosting_type='dart'\n",
    "    )"
   ]
  },
  {
   "cell_type": "code",
   "execution_count": 10,
   "metadata": {},
   "outputs": [],
   "source": [
    "models = ['lgbm', 'svr', 'etr']"
   ]
  },
  {
   "cell_type": "code",
   "execution_count": 11,
   "metadata": {},
   "outputs": [
    {
     "name": "stderr",
     "output_type": "stream",
     "text": [
      "100%|██████████| 8/8 [00:01<00:00,  5.13it/s]\n"
     ]
    }
   ],
   "source": [
    "results = []\n",
    "for ref_out, xy in tqdm(groups.items()):\n",
    "    result = {'group_out': ref_out}\n",
    "    xtrain, ytrain = xy[0], xy[1]\n",
    "    xtest, ytest = xy[2], xy[3]\n",
    "    for model_name in models:\n",
    "        if model_name == 'lgbm':\n",
    "            model = get_lgbm_model()\n",
    "        if model_name == 'svr':\n",
    "            model = get_svr_model()\n",
    "        if model_name == 'etr':\n",
    "            model = get_etr_model()\n",
    "        model.fit(xtrain, ytrain)\n",
    "        ypred = model.predict(xtest)\n",
    "        result[f'{model_name}-pearson'] = pearsonr(ytest, ypred)[0]\n",
    "        result[f'{model_name}-spearman'] = spearmanr(ytest, ypred)[0]\n",
    "        result[f'{model_name}-mse'] = mean_squared_error(ytest, ypred)\n",
    "    results.append(result)"
   ]
  },
  {
   "cell_type": "code",
   "execution_count": 12,
   "metadata": {},
   "outputs": [],
   "source": [
    "df_results = pd.DataFrame(results)"
   ]
  },
  {
   "cell_type": "code",
   "execution_count": 13,
   "metadata": {},
   "outputs": [],
   "source": [
    "to_concat = {\n",
    "    'group_out': 'mean',\n",
    "    'lgbm-pearson': df_results.loc[:, 'lgbm-pearson'].mean(),\n",
    "    'lgbm-spearman': df_results.loc[:, 'lgbm-spearman'].mean(),\n",
    "    'lgbm-mse': df_results.loc[:, 'lgbm-mse'].mean(),\n",
    "    'svr-pearson': df_results.loc[:, 'svr-pearson'].mean(),\n",
    "    'svr-spearman': df_results.loc[:, 'svr-spearman'].mean(),\n",
    "    'svr-mse': df_results.loc[:, 'svr-mse'].mean(),\n",
    "    'etr-pearson': df_results.loc[:, 'etr-pearson'].mean(),\n",
    "    'etr-spearman': df_results.loc[:, 'etr-spearman'].mean(),\n",
    "    'etr-mse': df_results.loc[:, 'etr-mse'].mean()\n",
    "}"
   ]
  },
  {
   "cell_type": "code",
   "execution_count": 14,
   "metadata": {},
   "outputs": [],
   "source": [
    "df_conc = pd.DataFrame([to_concat])\n",
    "df_results = pd.concat([df_results, df_conc])"
   ]
  },
  {
   "cell_type": "code",
   "execution_count": 15,
   "metadata": {},
   "outputs": [
    {
     "data": {
      "text/html": [
       "<div>\n",
       "<style scoped>\n",
       "    .dataframe tbody tr th:only-of-type {\n",
       "        vertical-align: middle;\n",
       "    }\n",
       "\n",
       "    .dataframe tbody tr th {\n",
       "        vertical-align: top;\n",
       "    }\n",
       "\n",
       "    .dataframe thead th {\n",
       "        text-align: right;\n",
       "    }\n",
       "</style>\n",
       "<table border=\"1\" class=\"dataframe\">\n",
       "  <thead>\n",
       "    <tr style=\"text-align: right;\">\n",
       "      <th></th>\n",
       "      <th>group_out</th>\n",
       "      <th>lgbm-pearson</th>\n",
       "      <th>lgbm-spearman</th>\n",
       "      <th>lgbm-mse</th>\n",
       "      <th>svr-pearson</th>\n",
       "      <th>svr-spearman</th>\n",
       "      <th>svr-mse</th>\n",
       "      <th>etr-pearson</th>\n",
       "      <th>etr-spearman</th>\n",
       "      <th>etr-mse</th>\n",
       "    </tr>\n",
       "  </thead>\n",
       "  <tbody>\n",
       "    <tr>\n",
       "      <th>0</th>\n",
       "      <td>romanoillamp_vox10</td>\n",
       "      <td>0.954732</td>\n",
       "      <td>0.964774</td>\n",
       "      <td>0.650140</td>\n",
       "      <td>0.943044</td>\n",
       "      <td>0.949680</td>\n",
       "      <td>0.457908</td>\n",
       "      <td>0.942447</td>\n",
       "      <td>0.952640</td>\n",
       "      <td>0.457490</td>\n",
       "    </tr>\n",
       "    <tr>\n",
       "      <th>1</th>\n",
       "      <td>loot_vox10_1200</td>\n",
       "      <td>0.938353</td>\n",
       "      <td>0.972065</td>\n",
       "      <td>0.194798</td>\n",
       "      <td>0.940321</td>\n",
       "      <td>0.972716</td>\n",
       "      <td>0.307531</td>\n",
       "      <td>0.945365</td>\n",
       "      <td>0.972716</td>\n",
       "      <td>0.333405</td>\n",
       "    </tr>\n",
       "    <tr>\n",
       "      <th>2</th>\n",
       "      <td>head_00039_vox9</td>\n",
       "      <td>0.954444</td>\n",
       "      <td>0.973553</td>\n",
       "      <td>0.693719</td>\n",
       "      <td>0.958956</td>\n",
       "      <td>0.972627</td>\n",
       "      <td>0.486603</td>\n",
       "      <td>0.947881</td>\n",
       "      <td>0.979532</td>\n",
       "      <td>0.517254</td>\n",
       "    </tr>\n",
       "    <tr>\n",
       "      <th>3</th>\n",
       "      <td>the20smaria_00600_vox10</td>\n",
       "      <td>0.951410</td>\n",
       "      <td>0.970280</td>\n",
       "      <td>0.153863</td>\n",
       "      <td>0.954043</td>\n",
       "      <td>0.977645</td>\n",
       "      <td>0.234751</td>\n",
       "      <td>0.959052</td>\n",
       "      <td>0.971221</td>\n",
       "      <td>0.234188</td>\n",
       "    </tr>\n",
       "    <tr>\n",
       "      <th>4</th>\n",
       "      <td>soldier_vox10_0690</td>\n",
       "      <td>0.956258</td>\n",
       "      <td>0.973613</td>\n",
       "      <td>0.144662</td>\n",
       "      <td>0.950766</td>\n",
       "      <td>0.973577</td>\n",
       "      <td>0.227720</td>\n",
       "      <td>0.951414</td>\n",
       "      <td>0.973083</td>\n",
       "      <td>0.240087</td>\n",
       "    </tr>\n",
       "    <tr>\n",
       "      <th>5</th>\n",
       "      <td>amphoriskos_vox10</td>\n",
       "      <td>0.905410</td>\n",
       "      <td>0.941721</td>\n",
       "      <td>0.317693</td>\n",
       "      <td>0.924268</td>\n",
       "      <td>0.952076</td>\n",
       "      <td>0.282869</td>\n",
       "      <td>0.924621</td>\n",
       "      <td>0.954047</td>\n",
       "      <td>0.309589</td>\n",
       "    </tr>\n",
       "    <tr>\n",
       "      <th>6</th>\n",
       "      <td>longdress_vox10_1300</td>\n",
       "      <td>0.886687</td>\n",
       "      <td>0.961844</td>\n",
       "      <td>0.467367</td>\n",
       "      <td>0.933535</td>\n",
       "      <td>0.974565</td>\n",
       "      <td>0.409050</td>\n",
       "      <td>0.907957</td>\n",
       "      <td>0.971602</td>\n",
       "      <td>0.500200</td>\n",
       "    </tr>\n",
       "    <tr>\n",
       "      <th>7</th>\n",
       "      <td>biplane_vox10</td>\n",
       "      <td>0.949477</td>\n",
       "      <td>0.981732</td>\n",
       "      <td>0.951615</td>\n",
       "      <td>0.939075</td>\n",
       "      <td>0.965874</td>\n",
       "      <td>0.696461</td>\n",
       "      <td>0.933021</td>\n",
       "      <td>0.976223</td>\n",
       "      <td>0.703310</td>\n",
       "    </tr>\n",
       "    <tr>\n",
       "      <th>0</th>\n",
       "      <td>mean</td>\n",
       "      <td>0.937096</td>\n",
       "      <td>0.967448</td>\n",
       "      <td>0.446732</td>\n",
       "      <td>0.943001</td>\n",
       "      <td>0.967345</td>\n",
       "      <td>0.387862</td>\n",
       "      <td>0.938970</td>\n",
       "      <td>0.968883</td>\n",
       "      <td>0.411940</td>\n",
       "    </tr>\n",
       "  </tbody>\n",
       "</table>\n",
       "</div>"
      ],
      "text/plain": [
       "                 group_out  lgbm-pearson  lgbm-spearman  lgbm-mse  \\\n",
       "0       romanoillamp_vox10      0.954732       0.964774  0.650140   \n",
       "1          loot_vox10_1200      0.938353       0.972065  0.194798   \n",
       "2          head_00039_vox9      0.954444       0.973553  0.693719   \n",
       "3  the20smaria_00600_vox10      0.951410       0.970280  0.153863   \n",
       "4       soldier_vox10_0690      0.956258       0.973613  0.144662   \n",
       "5        amphoriskos_vox10      0.905410       0.941721  0.317693   \n",
       "6     longdress_vox10_1300      0.886687       0.961844  0.467367   \n",
       "7            biplane_vox10      0.949477       0.981732  0.951615   \n",
       "0                     mean      0.937096       0.967448  0.446732   \n",
       "\n",
       "   svr-pearson  svr-spearman   svr-mse  etr-pearson  etr-spearman   etr-mse  \n",
       "0     0.943044      0.949680  0.457908     0.942447      0.952640  0.457490  \n",
       "1     0.940321      0.972716  0.307531     0.945365      0.972716  0.333405  \n",
       "2     0.958956      0.972627  0.486603     0.947881      0.979532  0.517254  \n",
       "3     0.954043      0.977645  0.234751     0.959052      0.971221  0.234188  \n",
       "4     0.950766      0.973577  0.227720     0.951414      0.973083  0.240087  \n",
       "5     0.924268      0.952076  0.282869     0.924621      0.954047  0.309589  \n",
       "6     0.933535      0.974565  0.409050     0.907957      0.971602  0.500200  \n",
       "7     0.939075      0.965874  0.696461     0.933021      0.976223  0.703310  \n",
       "0     0.943001      0.967345  0.387862     0.938970      0.968883  0.411940  "
      ]
     },
     "execution_count": 15,
     "metadata": {},
     "output_type": "execute_result"
    }
   ],
   "source": [
    "df_results"
   ]
  }
 ],
 "metadata": {
  "kernelspec": {
   "display_name": "tccVenv2",
   "language": "python",
   "name": "python3"
  },
  "language_info": {
   "codemirror_mode": {
    "name": "ipython",
    "version": 3
   },
   "file_extension": ".py",
   "mimetype": "text/x-python",
   "name": "python",
   "nbconvert_exporter": "python",
   "pygments_lexer": "ipython3",
   "version": "3.10.4"
  },
  "orig_nbformat": 4,
  "vscode": {
   "interpreter": {
    "hash": "88c321ef43037ea5124ac7a75f84feb39a5fe4fda135b2c0126c516c84ba22bc"
   }
  }
 },
 "nbformat": 4,
 "nbformat_minor": 2
}
